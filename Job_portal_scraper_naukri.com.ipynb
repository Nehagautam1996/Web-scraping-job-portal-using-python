{
 "cells": [
  {
   "cell_type": "code",
   "execution_count": null,
   "id": "d3c3e38a",
   "metadata": {},
   "outputs": [],
   "source": [
    "#import all required packages\n",
    "import csv\n",
    "from datetime import datetime\n",
    "import requests\n",
    "from bs4 import BeautifulSoup\n",
    "import time\n",
    "from selenium import webdriver\n",
    "import re\n",
    "import pandas as pd\n",
    "import functools\n",
    "from functools import reduce"
   ]
  },
  {
   "cell_type": "code",
   "execution_count": null,
   "id": "9db96a59",
   "metadata": {},
   "outputs": [],
   "source": [
    "#function to get the url for desired job role\n",
    "def get_url(position,page,post):\n",
    "    template='https://www.naukri.com/{}-jobs-{}?k={}'\n",
    "    url=template.format(position,page,post)\n",
    "    return url\n",
    "\n",
    "#user input for url\n",
    "post=input(\"Search job role: \")\n",
    "position=post\n",
    "page=1               #To initialize the url from first page.\n",
    "url=get_url(position,page,post)\n",
    "print(url)"
   ]
  },
  {
   "cell_type": "code",
   "execution_count": null,
   "id": "d95b64da",
   "metadata": {},
   "outputs": [],
   "source": [
    "#To check if the website allows web scraping\n",
    "response = requests.get(url)\n",
    "print(response)"
   ]
  },
  {
   "cell_type": "code",
   "execution_count": null,
   "id": "f15de91c",
   "metadata": {},
   "outputs": [],
   "source": [
    "print(response.reason)"
   ]
  },
  {
   "cell_type": "code",
   "execution_count": null,
   "id": "205ddd16",
   "metadata": {},
   "outputs": [],
   "source": [
    "#To trim the html tags from required data using Regular expressions\n",
    "def cleanhtml(raw_html):\n",
    "    cleanr = re.compile('<.*?>')\n",
    "    cleantext = re.sub(cleanr, '', raw_html)\n",
    "    return cleantext"
   ]
  },
  {
   "cell_type": "code",
   "execution_count": null,
   "id": "bde72a54",
   "metadata": {},
   "outputs": [],
   "source": [
    "#create a new dataframe for scraped data\n",
    "df = pd.DataFrame(columns=['Company','Description','Experience','Location','Salary','Skills'])\n",
    "df"
   ]
  },
  {
   "cell_type": "code",
   "execution_count": null,
   "id": "dc45756c",
   "metadata": {},
   "outputs": [],
   "source": [
    "for i in range(1,21):#to navigate through 20 pages\n",
    "    print(\"page : \",i)\n",
    "    url=get_url(position,i,post)#pass i for page\n",
    "    driver = webdriver.Chrome(\"D:\\chromedriver.exe\")\n",
    "    driver.get(url)\n",
    "\n",
    "    time.sleep(10)\n",
    "\n",
    "    soup = BeautifulSoup(driver.page_source,'html5lib')\n",
    "    #print(soup.prettify())\n",
    "\n",
    "    driver.close()\n",
    "    \n",
    "    #to get a job card\n",
    "    temp = soup.find(class_='list')\n",
    "    cards = temp.find_all('article',class_='jobTuple bgWhite br4 mb-8')\n",
    "    #print(len(cards))\n",
    "    \n",
    "    for cards in cards:#navigate through all job cards in a page\n",
    "        comp_a = cards.find('a',class_='subTitle ellipsis fleft')\n",
    "        \n",
    "        if comp_a is not None:#if company name is given\n",
    "                Company = comp_a.text\n",
    "                print(Company)\n",
    "        else:#if company name is not given\n",
    "            pass\n",
    "     \n",
    "        # Location \n",
    "        Loc = cards.find('li',class_='fleft grey-text br2 placeHolderLi location')\n",
    "        if Loc is not None:#check if location is given\n",
    "            Loc_span = Loc.find('span',class_='ellipsis fleft fs12 lh16')\n",
    "            if Loc_span is not None:#if location is given\n",
    "                Location = Loc_span.text.strip()\n",
    "                print(Location)\n",
    "            \n",
    "            else:\n",
    "                pass\n",
    "            \n",
    "        else:#if location not is given\n",
    "            pass\n",
    "       \n",
    "        # Years of experience Required\n",
    "        Exp = cards.find('li',class_='fleft grey-text br2 placeHolderLi experience')\n",
    "        if Exp is not None:#if experience is given\n",
    "            Exp_span = Exp.find('span',class_='ellipsis fleft fs12 lh16')\n",
    "            if Exp_span is not None:#if experience is given\n",
    "                Experience = Exp_span.text\n",
    "                print(Experience)\n",
    "            \n",
    "            else:#if experience is not given\n",
    "                pass\n",
    "            \n",
    "        else:\n",
    "            pass\n",
    "            \n",
    "            \n",
    "        # Salary offered \n",
    "        Sal = cards.find('li',class_='fleft grey-text br2 placeHolderLi salary')\n",
    "        #Sal_span = Sal.find('span',class_='ellipsis fleft fs12 lh16')\n",
    "        if Sal is not None:#if Salary is given\n",
    "            Sal_span = Sal.find('span',class_='ellipsis fleft fs12 lh16')\n",
    "            if Sal_span is not None:\n",
    "                Salary = Sal_span.text\n",
    "                print(Salary)\n",
    "            \n",
    "            else:\n",
    "                pass#if salary is not given\n",
    "            \n",
    "        else:\n",
    "            pass\n",
    "\n",
    "       #To get all skills in a jobcard finding all li tags in ul and printing the text within it\n",
    "        Skill=[]\n",
    "        sk1 = cards.find(class_='tags has-description')\n",
    "        sk2 = sk1.find_all('li',class_='fleft fs12 grey-text lh16 dot')\n",
    "        for li in sk2 :\n",
    "            li=str(li)\n",
    "            li=cleanhtml(li)\n",
    "            Skill.append(li)\n",
    "        print(Skill)   \n",
    "         \n",
    "            \n",
    "        #Description        \n",
    "        desc = cards.find('div',class_='job-description fs12 grey-text')\n",
    "        if desc is not None:\n",
    "                Description = desc.text\n",
    "                print(Description) \n",
    "            \n",
    "        else:\n",
    "            pass#if description is not given\n",
    "            \n",
    "       \n",
    "        \n",
    "        \n",
    "        #Append rows in Dataframe\n",
    "        df=df.append({'Company':Company,'Description':Description,'Experience':Experience,'Salary': Salary,'Location':Location,'Skills':Skill},ignore_index = True)\n",
    "   "
   ]
  },
  {
   "cell_type": "code",
   "execution_count": null,
   "id": "ff9a04a3",
   "metadata": {},
   "outputs": [],
   "source": [
    "print(df)"
   ]
  },
  {
   "cell_type": "code",
   "execution_count": null,
   "id": "a1437749",
   "metadata": {},
   "outputs": [],
   "source": [
    "print(df.shape)\n",
    "print(df.head(10))\n",
    "print(df.tail(10))"
   ]
  },
  {
   "cell_type": "code",
   "execution_count": null,
   "id": "611d8a41",
   "metadata": {},
   "outputs": [],
   "source": [
    "#store dataframe in a file\n",
    "df.to_csv(\"D:/Scrape_Naukri.csv\",index=False)"
   ]
  },
  {
   "cell_type": "code",
   "execution_count": null,
   "id": "7ba5fef7",
   "metadata": {},
   "outputs": [],
   "source": [
    "print(df['Skills'])"
   ]
  },
  {
   "cell_type": "code",
   "execution_count": null,
   "id": "6ac422f8",
   "metadata": {},
   "outputs": [],
   "source": [
    "print('DataFrame information: ',df.info())"
   ]
  },
  {
   "cell_type": "code",
   "execution_count": null,
   "id": "0e6567bb",
   "metadata": {},
   "outputs": [],
   "source": [
    "sk_set=df['Skills'].to_list()\n",
    "print(sk_set)"
   ]
  },
  {
   "cell_type": "code",
   "execution_count": null,
   "id": "4a9c2459",
   "metadata": {},
   "outputs": [],
   "source": [
    "#flatten list(2d to 1d)\n",
    "Skills_1d = reduce(lambda z, y :z + y, sk_set)\n",
    "print(Skills_1d)"
   ]
  },
  {
   "cell_type": "code",
   "execution_count": null,
   "id": "0c54b8a6",
   "metadata": {},
   "outputs": [],
   "source": [
    "#To print unique skill element count using dictionary(skill_count) \n",
    "Skill_count = dict(zip(list(Skills_1d),[list(Skills_1d).count(i) for i in list(Skills_1d)]))\n",
    "print(\"Dictionary : \",Skill_count)\n",
    "print(\"Count : \",len(Skill_count))\n",
    "print(Skill_count)"
   ]
  },
  {
   "cell_type": "code",
   "execution_count": null,
   "id": "ec2c37a8",
   "metadata": {},
   "outputs": [],
   "source": [
    "#storing this dictionary to a dataframe S_count\n",
    "S_count = pd.DataFrame.from_dict(Skill_count , orient ='index')\n",
    "print(S_count)"
   ]
  },
  {
   "cell_type": "code",
   "execution_count": null,
   "id": "333cbcfa",
   "metadata": {},
   "outputs": [],
   "source": [
    "#store dataframe in a file\n",
    "S_count.to_csv(\"D:/Skill_count.csv\")"
   ]
  },
  {
   "cell_type": "code",
   "execution_count": null,
   "id": "8f0e0ae1",
   "metadata": {},
   "outputs": [],
   "source": []
  },
  {
   "cell_type": "code",
   "execution_count": null,
   "id": "d4e85a88",
   "metadata": {},
   "outputs": [],
   "source": []
  }
 ],
 "metadata": {
  "kernelspec": {
   "display_name": "Python 3",
   "language": "python",
   "name": "python3"
  },
  "language_info": {
   "codemirror_mode": {
    "name": "ipython",
    "version": 3
   },
   "file_extension": ".py",
   "mimetype": "text/x-python",
   "name": "python",
   "nbconvert_exporter": "python",
   "pygments_lexer": "ipython3",
   "version": "3.8.8"
  }
 },
 "nbformat": 4,
 "nbformat_minor": 5
}
